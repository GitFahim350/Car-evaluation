{
  "nbformat": 4,
  "nbformat_minor": 0,
  "metadata": {
    "colab": {
      "name": "Pattern_lab_project.ipynb",
      "provenance": []
    },
    "kernelspec": {
      "name": "python3",
      "display_name": "Python 3"
    },
    "language_info": {
      "name": "python"
    },
    "accelerator": "GPU"
  },
  "cells": [
    {
      "cell_type": "code",
      "metadata": {
        "colab": {
          "base_uri": "https://localhost:8080/"
        },
        "id": "OjlJWAcN8IjJ",
        "outputId": "bcbec093-679f-46f1-8110-0e2d7f568d22"
      },
      "source": [
        "from google.colab import drive\n",
        "drive.mount('/content/drive')"
      ],
      "execution_count": 4,
      "outputs": [
        {
          "output_type": "stream",
          "name": "stdout",
          "text": [
            "Drive already mounted at /content/drive; to attempt to forcibly remount, call drive.mount(\"/content/drive\", force_remount=True).\n"
          ]
        }
      ]
    },
    {
      "cell_type": "code",
      "metadata": {
        "id": "-Jk9GGAK8oCo"
      },
      "source": [
        "main_directory='/content/drive/My Drive'"
      ],
      "execution_count": 3,
      "outputs": []
    },
    {
      "cell_type": "code",
      "metadata": {
        "colab": {
          "base_uri": "https://localhost:8080/",
          "height": 357
        },
        "id": "dH65frDx8p4f",
        "outputId": "f318df24-6919-4f39-b900-6178400ba95b"
      },
      "source": [
        "import pandas as pd \n",
        "df=pd.read_csv(main_directory+'/car_evaluation.csv', names=['Buying', 'Maint_cost', 'Doors', 'Persons', 'Lug_boot', 'Safety', 'Over_all_score'], index_col=None)\n",
        "df.head(10)"
      ],
      "execution_count": 5,
      "outputs": [
        {
          "output_type": "execute_result",
          "data": {
            "text/html": [
              "<div>\n",
              "<style scoped>\n",
              "    .dataframe tbody tr th:only-of-type {\n",
              "        vertical-align: middle;\n",
              "    }\n",
              "\n",
              "    .dataframe tbody tr th {\n",
              "        vertical-align: top;\n",
              "    }\n",
              "\n",
              "    .dataframe thead th {\n",
              "        text-align: right;\n",
              "    }\n",
              "</style>\n",
              "<table border=\"1\" class=\"dataframe\">\n",
              "  <thead>\n",
              "    <tr style=\"text-align: right;\">\n",
              "      <th></th>\n",
              "      <th>Buying</th>\n",
              "      <th>Maint_cost</th>\n",
              "      <th>Doors</th>\n",
              "      <th>Persons</th>\n",
              "      <th>Lug_boot</th>\n",
              "      <th>Safety</th>\n",
              "      <th>Over_all_score</th>\n",
              "    </tr>\n",
              "  </thead>\n",
              "  <tbody>\n",
              "    <tr>\n",
              "      <th>0</th>\n",
              "      <td>vhigh</td>\n",
              "      <td>vhigh</td>\n",
              "      <td>2</td>\n",
              "      <td>2</td>\n",
              "      <td>small</td>\n",
              "      <td>low</td>\n",
              "      <td>unacc</td>\n",
              "    </tr>\n",
              "    <tr>\n",
              "      <th>1</th>\n",
              "      <td>vhigh</td>\n",
              "      <td>vhigh</td>\n",
              "      <td>2</td>\n",
              "      <td>2</td>\n",
              "      <td>small</td>\n",
              "      <td>med</td>\n",
              "      <td>unacc</td>\n",
              "    </tr>\n",
              "    <tr>\n",
              "      <th>2</th>\n",
              "      <td>vhigh</td>\n",
              "      <td>vhigh</td>\n",
              "      <td>2</td>\n",
              "      <td>2</td>\n",
              "      <td>small</td>\n",
              "      <td>high</td>\n",
              "      <td>unacc</td>\n",
              "    </tr>\n",
              "    <tr>\n",
              "      <th>3</th>\n",
              "      <td>vhigh</td>\n",
              "      <td>vhigh</td>\n",
              "      <td>2</td>\n",
              "      <td>2</td>\n",
              "      <td>med</td>\n",
              "      <td>low</td>\n",
              "      <td>unacc</td>\n",
              "    </tr>\n",
              "    <tr>\n",
              "      <th>4</th>\n",
              "      <td>vhigh</td>\n",
              "      <td>vhigh</td>\n",
              "      <td>2</td>\n",
              "      <td>2</td>\n",
              "      <td>med</td>\n",
              "      <td>med</td>\n",
              "      <td>unacc</td>\n",
              "    </tr>\n",
              "    <tr>\n",
              "      <th>5</th>\n",
              "      <td>vhigh</td>\n",
              "      <td>vhigh</td>\n",
              "      <td>2</td>\n",
              "      <td>2</td>\n",
              "      <td>med</td>\n",
              "      <td>high</td>\n",
              "      <td>unacc</td>\n",
              "    </tr>\n",
              "    <tr>\n",
              "      <th>6</th>\n",
              "      <td>vhigh</td>\n",
              "      <td>vhigh</td>\n",
              "      <td>2</td>\n",
              "      <td>2</td>\n",
              "      <td>big</td>\n",
              "      <td>low</td>\n",
              "      <td>unacc</td>\n",
              "    </tr>\n",
              "    <tr>\n",
              "      <th>7</th>\n",
              "      <td>vhigh</td>\n",
              "      <td>vhigh</td>\n",
              "      <td>2</td>\n",
              "      <td>2</td>\n",
              "      <td>big</td>\n",
              "      <td>med</td>\n",
              "      <td>unacc</td>\n",
              "    </tr>\n",
              "    <tr>\n",
              "      <th>8</th>\n",
              "      <td>vhigh</td>\n",
              "      <td>vhigh</td>\n",
              "      <td>2</td>\n",
              "      <td>2</td>\n",
              "      <td>big</td>\n",
              "      <td>high</td>\n",
              "      <td>unacc</td>\n",
              "    </tr>\n",
              "    <tr>\n",
              "      <th>9</th>\n",
              "      <td>vhigh</td>\n",
              "      <td>vhigh</td>\n",
              "      <td>2</td>\n",
              "      <td>4</td>\n",
              "      <td>small</td>\n",
              "      <td>low</td>\n",
              "      <td>unacc</td>\n",
              "    </tr>\n",
              "  </tbody>\n",
              "</table>\n",
              "</div>"
            ],
            "text/plain": [
              "  Buying Maint_cost Doors Persons Lug_boot Safety Over_all_score\n",
              "0  vhigh      vhigh     2       2    small    low          unacc\n",
              "1  vhigh      vhigh     2       2    small    med          unacc\n",
              "2  vhigh      vhigh     2       2    small   high          unacc\n",
              "3  vhigh      vhigh     2       2      med    low          unacc\n",
              "4  vhigh      vhigh     2       2      med    med          unacc\n",
              "5  vhigh      vhigh     2       2      med   high          unacc\n",
              "6  vhigh      vhigh     2       2      big    low          unacc\n",
              "7  vhigh      vhigh     2       2      big    med          unacc\n",
              "8  vhigh      vhigh     2       2      big   high          unacc\n",
              "9  vhigh      vhigh     2       4    small    low          unacc"
            ]
          },
          "metadata": {},
          "execution_count": 5
        }
      ]
    },
    {
      "cell_type": "code",
      "metadata": {
        "colab": {
          "base_uri": "https://localhost:8080/"
        },
        "id": "7c_22PubJe2w",
        "outputId": "69c323d2-aa5c-43ea-89a1-c39c333b28b1"
      },
      "source": [
        "df.info()"
      ],
      "execution_count": 6,
      "outputs": [
        {
          "output_type": "stream",
          "name": "stdout",
          "text": [
            "<class 'pandas.core.frame.DataFrame'>\n",
            "RangeIndex: 1728 entries, 0 to 1727\n",
            "Data columns (total 7 columns):\n",
            " #   Column          Non-Null Count  Dtype \n",
            "---  ------          --------------  ----- \n",
            " 0   Buying          1728 non-null   object\n",
            " 1   Maint_cost      1728 non-null   object\n",
            " 2   Doors           1728 non-null   object\n",
            " 3   Persons         1728 non-null   object\n",
            " 4   Lug_boot        1728 non-null   object\n",
            " 5   Safety          1728 non-null   object\n",
            " 6   Over_all_score  1728 non-null   object\n",
            "dtypes: object(7)\n",
            "memory usage: 94.6+ KB\n"
          ]
        }
      ]
    },
    {
      "cell_type": "code",
      "metadata": {
        "colab": {
          "base_uri": "https://localhost:8080/"
        },
        "id": "0vR8U2j1ADO4",
        "outputId": "949eb97a-c6f0-4527-95a4-ce3ddff27332"
      },
      "source": [
        "df.isnull().sum()"
      ],
      "execution_count": 7,
      "outputs": [
        {
          "output_type": "execute_result",
          "data": {
            "text/plain": [
              "Buying            0\n",
              "Maint_cost        0\n",
              "Doors             0\n",
              "Persons           0\n",
              "Lug_boot          0\n",
              "Safety            0\n",
              "Over_all_score    0\n",
              "dtype: int64"
            ]
          },
          "metadata": {},
          "execution_count": 7
        }
      ]
    },
    {
      "cell_type": "code",
      "metadata": {
        "id": "dcgs6Rzt-Oh-"
      },
      "source": [
        "X = df.drop(['Over_all_score'], axis=1)\n",
        "Y = df['Over_all_score']"
      ],
      "execution_count": 8,
      "outputs": []
    },
    {
      "cell_type": "code",
      "metadata": {
        "colab": {
          "base_uri": "https://localhost:8080/",
          "height": 203
        },
        "id": "FNSXogL3B5k2",
        "outputId": "b4048fec-9ef3-422c-b418-b52d21d44d91"
      },
      "source": [
        "X.head(5)"
      ],
      "execution_count": 9,
      "outputs": [
        {
          "output_type": "execute_result",
          "data": {
            "text/html": [
              "<div>\n",
              "<style scoped>\n",
              "    .dataframe tbody tr th:only-of-type {\n",
              "        vertical-align: middle;\n",
              "    }\n",
              "\n",
              "    .dataframe tbody tr th {\n",
              "        vertical-align: top;\n",
              "    }\n",
              "\n",
              "    .dataframe thead th {\n",
              "        text-align: right;\n",
              "    }\n",
              "</style>\n",
              "<table border=\"1\" class=\"dataframe\">\n",
              "  <thead>\n",
              "    <tr style=\"text-align: right;\">\n",
              "      <th></th>\n",
              "      <th>Buying</th>\n",
              "      <th>Maint_cost</th>\n",
              "      <th>Doors</th>\n",
              "      <th>Persons</th>\n",
              "      <th>Lug_boot</th>\n",
              "      <th>Safety</th>\n",
              "    </tr>\n",
              "  </thead>\n",
              "  <tbody>\n",
              "    <tr>\n",
              "      <th>0</th>\n",
              "      <td>vhigh</td>\n",
              "      <td>vhigh</td>\n",
              "      <td>2</td>\n",
              "      <td>2</td>\n",
              "      <td>small</td>\n",
              "      <td>low</td>\n",
              "    </tr>\n",
              "    <tr>\n",
              "      <th>1</th>\n",
              "      <td>vhigh</td>\n",
              "      <td>vhigh</td>\n",
              "      <td>2</td>\n",
              "      <td>2</td>\n",
              "      <td>small</td>\n",
              "      <td>med</td>\n",
              "    </tr>\n",
              "    <tr>\n",
              "      <th>2</th>\n",
              "      <td>vhigh</td>\n",
              "      <td>vhigh</td>\n",
              "      <td>2</td>\n",
              "      <td>2</td>\n",
              "      <td>small</td>\n",
              "      <td>high</td>\n",
              "    </tr>\n",
              "    <tr>\n",
              "      <th>3</th>\n",
              "      <td>vhigh</td>\n",
              "      <td>vhigh</td>\n",
              "      <td>2</td>\n",
              "      <td>2</td>\n",
              "      <td>med</td>\n",
              "      <td>low</td>\n",
              "    </tr>\n",
              "    <tr>\n",
              "      <th>4</th>\n",
              "      <td>vhigh</td>\n",
              "      <td>vhigh</td>\n",
              "      <td>2</td>\n",
              "      <td>2</td>\n",
              "      <td>med</td>\n",
              "      <td>med</td>\n",
              "    </tr>\n",
              "  </tbody>\n",
              "</table>\n",
              "</div>"
            ],
            "text/plain": [
              "  Buying Maint_cost Doors Persons Lug_boot Safety\n",
              "0  vhigh      vhigh     2       2    small    low\n",
              "1  vhigh      vhigh     2       2    small    med\n",
              "2  vhigh      vhigh     2       2    small   high\n",
              "3  vhigh      vhigh     2       2      med    low\n",
              "4  vhigh      vhigh     2       2      med    med"
            ]
          },
          "metadata": {},
          "execution_count": 9
        }
      ]
    },
    {
      "cell_type": "code",
      "metadata": {
        "colab": {
          "base_uri": "https://localhost:8080/"
        },
        "id": "JY8wOG8DCLRA",
        "outputId": "ab416123-418a-426f-8a08-a5bdcc1b9fdd"
      },
      "source": [
        "pip install --upgrade category_encoders"
      ],
      "execution_count": 10,
      "outputs": [
        {
          "output_type": "stream",
          "name": "stdout",
          "text": [
            "Collecting category_encoders\n",
            "  Downloading category_encoders-2.2.2-py2.py3-none-any.whl (80 kB)\n",
            "\u001b[?25l\r\u001b[K     |████                            | 10 kB 24.2 MB/s eta 0:00:01\r\u001b[K     |████████▏                       | 20 kB 24.7 MB/s eta 0:00:01\r\u001b[K     |████████████▏                   | 30 kB 11.7 MB/s eta 0:00:01\r\u001b[K     |████████████████▎               | 40 kB 9.2 MB/s eta 0:00:01\r\u001b[K     |████████████████████▎           | 51 kB 5.0 MB/s eta 0:00:01\r\u001b[K     |████████████████████████▍       | 61 kB 5.4 MB/s eta 0:00:01\r\u001b[K     |████████████████████████████▍   | 71 kB 5.9 MB/s eta 0:00:01\r\u001b[K     |████████████████████████████████| 80 kB 4.0 MB/s \n",
            "\u001b[?25hRequirement already satisfied: scipy>=1.0.0 in /usr/local/lib/python3.7/dist-packages (from category_encoders) (1.4.1)\n",
            "Requirement already satisfied: scikit-learn>=0.20.0 in /usr/local/lib/python3.7/dist-packages (from category_encoders) (0.22.2.post1)\n",
            "Requirement already satisfied: patsy>=0.5.1 in /usr/local/lib/python3.7/dist-packages (from category_encoders) (0.5.1)\n",
            "Requirement already satisfied: pandas>=0.21.1 in /usr/local/lib/python3.7/dist-packages (from category_encoders) (1.1.5)\n",
            "Requirement already satisfied: statsmodels>=0.9.0 in /usr/local/lib/python3.7/dist-packages (from category_encoders) (0.10.2)\n",
            "Requirement already satisfied: numpy>=1.14.0 in /usr/local/lib/python3.7/dist-packages (from category_encoders) (1.19.5)\n",
            "Requirement already satisfied: pytz>=2017.2 in /usr/local/lib/python3.7/dist-packages (from pandas>=0.21.1->category_encoders) (2018.9)\n",
            "Requirement already satisfied: python-dateutil>=2.7.3 in /usr/local/lib/python3.7/dist-packages (from pandas>=0.21.1->category_encoders) (2.8.2)\n",
            "Requirement already satisfied: six in /usr/local/lib/python3.7/dist-packages (from patsy>=0.5.1->category_encoders) (1.15.0)\n",
            "Requirement already satisfied: joblib>=0.11 in /usr/local/lib/python3.7/dist-packages (from scikit-learn>=0.20.0->category_encoders) (1.0.1)\n",
            "Installing collected packages: category-encoders\n",
            "Successfully installed category-encoders-2.2.2\n"
          ]
        }
      ]
    },
    {
      "cell_type": "code",
      "metadata": {
        "colab": {
          "base_uri": "https://localhost:8080/"
        },
        "id": "paurOoidC7dW",
        "outputId": "19a69f9f-a88e-4d90-c6f1-c7c4292de47f"
      },
      "source": [
        "import category_encoders as ce\n",
        "\n",
        "encoder_features = ce.OrdinalEncoder(cols=['Buying', 'Maint_cost', 'Doors', 'Persons', 'Lug_boot', 'Safety'])\n",
        "encoder_class = ce.OrdinalEncoder(cols=['Over_all_score'])\n",
        "\n",
        "X = encoder_features.fit_transform(X)\n",
        "\n",
        "Y = encoder_class.fit_transform(Y)"
      ],
      "execution_count": 11,
      "outputs": [
        {
          "output_type": "stream",
          "name": "stderr",
          "text": [
            "/usr/local/lib/python3.7/dist-packages/statsmodels/tools/_testing.py:19: FutureWarning: pandas.util.testing is deprecated. Use the functions in the public API at pandas.testing instead.\n",
            "  import pandas.util.testing as tm\n",
            "/usr/local/lib/python3.7/dist-packages/category_encoders/utils.py:21: FutureWarning: is_categorical is deprecated and will be removed in a future version.  Use is_categorical_dtype instead\n",
            "  elif pd.api.types.is_categorical(cols):\n"
          ]
        }
      ]
    },
    {
      "cell_type": "code",
      "metadata": {
        "colab": {
          "base_uri": "https://localhost:8080/",
          "height": 417
        },
        "id": "QjcPklutJSWt",
        "outputId": "50e2b9a1-f5f9-40a5-ec36-d36737a7f208"
      },
      "source": [
        "X"
      ],
      "execution_count": 12,
      "outputs": [
        {
          "output_type": "execute_result",
          "data": {
            "text/html": [
              "<div>\n",
              "<style scoped>\n",
              "    .dataframe tbody tr th:only-of-type {\n",
              "        vertical-align: middle;\n",
              "    }\n",
              "\n",
              "    .dataframe tbody tr th {\n",
              "        vertical-align: top;\n",
              "    }\n",
              "\n",
              "    .dataframe thead th {\n",
              "        text-align: right;\n",
              "    }\n",
              "</style>\n",
              "<table border=\"1\" class=\"dataframe\">\n",
              "  <thead>\n",
              "    <tr style=\"text-align: right;\">\n",
              "      <th></th>\n",
              "      <th>Buying</th>\n",
              "      <th>Maint_cost</th>\n",
              "      <th>Doors</th>\n",
              "      <th>Persons</th>\n",
              "      <th>Lug_boot</th>\n",
              "      <th>Safety</th>\n",
              "    </tr>\n",
              "  </thead>\n",
              "  <tbody>\n",
              "    <tr>\n",
              "      <th>0</th>\n",
              "      <td>1</td>\n",
              "      <td>1</td>\n",
              "      <td>1</td>\n",
              "      <td>1</td>\n",
              "      <td>1</td>\n",
              "      <td>1</td>\n",
              "    </tr>\n",
              "    <tr>\n",
              "      <th>1</th>\n",
              "      <td>1</td>\n",
              "      <td>1</td>\n",
              "      <td>1</td>\n",
              "      <td>1</td>\n",
              "      <td>1</td>\n",
              "      <td>2</td>\n",
              "    </tr>\n",
              "    <tr>\n",
              "      <th>2</th>\n",
              "      <td>1</td>\n",
              "      <td>1</td>\n",
              "      <td>1</td>\n",
              "      <td>1</td>\n",
              "      <td>1</td>\n",
              "      <td>3</td>\n",
              "    </tr>\n",
              "    <tr>\n",
              "      <th>3</th>\n",
              "      <td>1</td>\n",
              "      <td>1</td>\n",
              "      <td>1</td>\n",
              "      <td>1</td>\n",
              "      <td>2</td>\n",
              "      <td>1</td>\n",
              "    </tr>\n",
              "    <tr>\n",
              "      <th>4</th>\n",
              "      <td>1</td>\n",
              "      <td>1</td>\n",
              "      <td>1</td>\n",
              "      <td>1</td>\n",
              "      <td>2</td>\n",
              "      <td>2</td>\n",
              "    </tr>\n",
              "    <tr>\n",
              "      <th>...</th>\n",
              "      <td>...</td>\n",
              "      <td>...</td>\n",
              "      <td>...</td>\n",
              "      <td>...</td>\n",
              "      <td>...</td>\n",
              "      <td>...</td>\n",
              "    </tr>\n",
              "    <tr>\n",
              "      <th>1723</th>\n",
              "      <td>4</td>\n",
              "      <td>4</td>\n",
              "      <td>4</td>\n",
              "      <td>3</td>\n",
              "      <td>2</td>\n",
              "      <td>2</td>\n",
              "    </tr>\n",
              "    <tr>\n",
              "      <th>1724</th>\n",
              "      <td>4</td>\n",
              "      <td>4</td>\n",
              "      <td>4</td>\n",
              "      <td>3</td>\n",
              "      <td>2</td>\n",
              "      <td>3</td>\n",
              "    </tr>\n",
              "    <tr>\n",
              "      <th>1725</th>\n",
              "      <td>4</td>\n",
              "      <td>4</td>\n",
              "      <td>4</td>\n",
              "      <td>3</td>\n",
              "      <td>3</td>\n",
              "      <td>1</td>\n",
              "    </tr>\n",
              "    <tr>\n",
              "      <th>1726</th>\n",
              "      <td>4</td>\n",
              "      <td>4</td>\n",
              "      <td>4</td>\n",
              "      <td>3</td>\n",
              "      <td>3</td>\n",
              "      <td>2</td>\n",
              "    </tr>\n",
              "    <tr>\n",
              "      <th>1727</th>\n",
              "      <td>4</td>\n",
              "      <td>4</td>\n",
              "      <td>4</td>\n",
              "      <td>3</td>\n",
              "      <td>3</td>\n",
              "      <td>3</td>\n",
              "    </tr>\n",
              "  </tbody>\n",
              "</table>\n",
              "<p>1728 rows × 6 columns</p>\n",
              "</div>"
            ],
            "text/plain": [
              "      Buying  Maint_cost  Doors  Persons  Lug_boot  Safety\n",
              "0          1           1      1        1         1       1\n",
              "1          1           1      1        1         1       2\n",
              "2          1           1      1        1         1       3\n",
              "3          1           1      1        1         2       1\n",
              "4          1           1      1        1         2       2\n",
              "...      ...         ...    ...      ...       ...     ...\n",
              "1723       4           4      4        3         2       2\n",
              "1724       4           4      4        3         2       3\n",
              "1725       4           4      4        3         3       1\n",
              "1726       4           4      4        3         3       2\n",
              "1727       4           4      4        3         3       3\n",
              "\n",
              "[1728 rows x 6 columns]"
            ]
          },
          "metadata": {},
          "execution_count": 12
        }
      ]
    },
    {
      "cell_type": "code",
      "metadata": {
        "colab": {
          "base_uri": "https://localhost:8080/"
        },
        "id": "XmUAeZarNbA3",
        "outputId": "fc96ce71-80cf-443a-f3b5-1193d4c157ab"
      },
      "source": [
        "print(\"Before sampling\")\n",
        "print(\"Features>>>\")\n",
        "[ print(X[column].value_counts(), '\\n')  for column in X.columns]\n",
        "print(\"Classes>>>\")\n",
        "[ print(Y[column].value_counts(), '\\n')  for column in Y.columns]"
      ],
      "execution_count": 13,
      "outputs": [
        {
          "output_type": "stream",
          "name": "stdout",
          "text": [
            "Before sampling\n",
            "Features>>>\n",
            "4    432\n",
            "3    432\n",
            "2    432\n",
            "1    432\n",
            "Name: Buying, dtype: int64 \n",
            "\n",
            "4    432\n",
            "3    432\n",
            "2    432\n",
            "1    432\n",
            "Name: Maint_cost, dtype: int64 \n",
            "\n",
            "4    432\n",
            "3    432\n",
            "2    432\n",
            "1    432\n",
            "Name: Doors, dtype: int64 \n",
            "\n",
            "3    576\n",
            "2    576\n",
            "1    576\n",
            "Name: Persons, dtype: int64 \n",
            "\n",
            "3    576\n",
            "2    576\n",
            "1    576\n",
            "Name: Lug_boot, dtype: int64 \n",
            "\n",
            "3    576\n",
            "2    576\n",
            "1    576\n",
            "Name: Safety, dtype: int64 \n",
            "\n",
            "Classes>>>\n",
            "1    1210\n",
            "2     384\n",
            "4      69\n",
            "3      65\n",
            "Name: Over_all_score, dtype: int64 \n",
            "\n"
          ]
        },
        {
          "output_type": "execute_result",
          "data": {
            "text/plain": [
              "[None]"
            ]
          },
          "metadata": {},
          "execution_count": 13
        }
      ]
    },
    {
      "cell_type": "code",
      "metadata": {
        "colab": {
          "base_uri": "https://localhost:8080/"
        },
        "id": "oXr42loNIkDf",
        "outputId": "4c6c698d-3784-4032-b338-be9582367a94"
      },
      "source": [
        "from imblearn.combine import SMOTETomek \n",
        "smt = SMOTETomek(random_state=42)\n",
        "X, Y = smt.fit_sample(X, Y)"
      ],
      "execution_count": 14,
      "outputs": [
        {
          "output_type": "stream",
          "name": "stderr",
          "text": [
            "/usr/local/lib/python3.7/dist-packages/sklearn/externals/six.py:31: FutureWarning: The module is deprecated in version 0.21 and will be removed in version 0.23 since we've dropped support for Python 2.7. Please rely on the official version of six (https://pypi.org/project/six/).\n",
            "  \"(https://pypi.org/project/six/).\", FutureWarning)\n",
            "/usr/local/lib/python3.7/dist-packages/sklearn/utils/deprecation.py:144: FutureWarning: The sklearn.neighbors.base module is  deprecated in version 0.22 and will be removed in version 0.24. The corresponding classes / functions should instead be imported from sklearn.neighbors. Anything that cannot be imported from sklearn.neighbors is now part of the private API.\n",
            "  warnings.warn(message, FutureWarning)\n",
            "/usr/local/lib/python3.7/dist-packages/sklearn/utils/validation.py:760: DataConversionWarning: A column-vector y was passed when a 1d array was expected. Please change the shape of y to (n_samples, ), for example using ravel().\n",
            "  y = column_or_1d(y, warn=True)\n",
            "/usr/local/lib/python3.7/dist-packages/sklearn/utils/deprecation.py:87: FutureWarning: Function safe_indexing is deprecated; safe_indexing is deprecated in version 0.22 and will be removed in version 0.24.\n",
            "  warnings.warn(msg, category=FutureWarning)\n",
            "/usr/local/lib/python3.7/dist-packages/sklearn/utils/deprecation.py:87: FutureWarning: Function safe_indexing is deprecated; safe_indexing is deprecated in version 0.22 and will be removed in version 0.24.\n",
            "  warnings.warn(msg, category=FutureWarning)\n",
            "/usr/local/lib/python3.7/dist-packages/sklearn/utils/deprecation.py:87: FutureWarning: Function safe_indexing is deprecated; safe_indexing is deprecated in version 0.22 and will be removed in version 0.24.\n",
            "  warnings.warn(msg, category=FutureWarning)\n",
            "/usr/local/lib/python3.7/dist-packages/sklearn/utils/deprecation.py:87: FutureWarning: Function safe_indexing is deprecated; safe_indexing is deprecated in version 0.22 and will be removed in version 0.24.\n",
            "  warnings.warn(msg, category=FutureWarning)\n"
          ]
        }
      ]
    },
    {
      "cell_type": "code",
      "metadata": {
        "id": "6116rBKwO3Ge"
      },
      "source": [
        "X = pd.DataFrame(X)\n",
        "Y = pd.DataFrame(Y)"
      ],
      "execution_count": 15,
      "outputs": []
    },
    {
      "cell_type": "code",
      "metadata": {
        "colab": {
          "base_uri": "https://localhost:8080/"
        },
        "id": "w_pbNje_PmNu",
        "outputId": "2d2d0a18-eb44-4ae9-d9f4-95fd445bef15"
      },
      "source": [
        "print(\"After sampling>>\")\n",
        "print(\"Encoded Features>>\")\n",
        "[ print(X[column].value_counts(), '\\n')  for column in X.columns]\n",
        "print(\"Encoded Classes>>\")\n",
        "[ print(Y[column].value_counts(), '\\n')  for column in Y.columns]"
      ],
      "execution_count": 16,
      "outputs": [
        {
          "output_type": "stream",
          "name": "stdout",
          "text": [
            "After sampling>>\n",
            "Encoded Features>>\n",
            "4    1868\n",
            "3    1715\n",
            "2     674\n",
            "1     583\n",
            "Name: 0, dtype: int64 \n",
            "\n",
            "3    1653\n",
            "4    1591\n",
            "2     974\n",
            "1     622\n",
            "Name: 1, dtype: int64 \n",
            "\n",
            "3    1363\n",
            "2    1216\n",
            "1    1161\n",
            "4    1100\n",
            "Name: 2, dtype: int64 \n",
            "\n",
            "2    2488\n",
            "3    1776\n",
            "1     576\n",
            "Name: 3, dtype: int64 \n",
            "\n",
            "2    1821\n",
            "3    1768\n",
            "1    1251\n",
            "Name: 4, dtype: int64 \n",
            "\n",
            "3    2612\n",
            "2    1652\n",
            "1     576\n",
            "Name: 5, dtype: int64 \n",
            "\n",
            "Encoded Classes>>\n",
            "3    1210\n",
            "2    1210\n",
            "1    1210\n",
            "4    1210\n",
            "Name: 0, dtype: int64 \n",
            "\n"
          ]
        },
        {
          "output_type": "execute_result",
          "data": {
            "text/plain": [
              "[None]"
            ]
          },
          "metadata": {},
          "execution_count": 16
        }
      ]
    },
    {
      "cell_type": "code",
      "metadata": {
        "id": "hSW3gBLaNA3q"
      },
      "source": [
        "from sklearn.model_selection import GridSearchCV\n",
        "\n",
        "from sklearn.svm import SVC\n",
        "\n",
        "from sklearn.ensemble import RandomForestClassifier\n",
        "\n",
        "from sklearn import tree"
      ],
      "execution_count": 17,
      "outputs": []
    },
    {
      "cell_type": "code",
      "metadata": {
        "id": "ZivtoxH4NYXi"
      },
      "source": [
        "model_params = {\n",
        "    'svm': {\n",
        "        'model': SVC(),\n",
        "        'params' : {\n",
        "            'C': [10,20,23,],\n",
        "            'gamma':[0.51,0.52,0.55],\n",
        "            'kernel': ['rbf','linear']\n",
        "        }  \n",
        "    },\n",
        "    'random_forest': {\n",
        "        'model': RandomForestClassifier(),\n",
        "        'params' : {\n",
        "            'n_estimators': [1,5,10,15],\n",
        "            'max_features':['auto','sqrt'],\n",
        "            'max_depth':[2,4,6],\n",
        "            'min_samples_leaf':[1,2,3]\n",
        "        }\n",
        "    },\n",
        "    'Tree' : {\n",
        "        'model': tree.DecisionTreeClassifier(),\n",
        "        'params': {\n",
        "            'criterion':['gini','entropy'],\n",
        "            'max_depth':[4,5,6,7,8,9,10,11,12,15]\n",
        "            \n",
        "        }\n",
        "    },\n",
        "    \n",
        "}"
      ],
      "execution_count": 18,
      "outputs": []
    },
    {
      "cell_type": "code",
      "metadata": {
        "colab": {
          "base_uri": "https://localhost:8080/"
        },
        "id": "n57nJowvRHVQ",
        "outputId": "c0f18acb-880b-4dad-a573-0b9929794854"
      },
      "source": [
        "Y.value_counts()"
      ],
      "execution_count": 19,
      "outputs": [
        {
          "output_type": "execute_result",
          "data": {
            "text/plain": [
              "4    1210\n",
              "3    1210\n",
              "2    1210\n",
              "1    1210\n",
              "dtype: int64"
            ]
          },
          "metadata": {},
          "execution_count": 19
        }
      ]
    },
    {
      "cell_type": "markdown",
      "metadata": {
        "id": "CUTADq6c1PUh"
      },
      "source": [
        "Best Score obtained by each model"
      ]
    },
    {
      "cell_type": "code",
      "metadata": {
        "id": "RiJd0sL8811K"
      },
      "source": [
        "scores = []\n",
        "for model_name, mp in model_params.items():\n",
        "    classifier =  GridSearchCV(mp['model'], mp['params'], cv=10,return_train_score=False)\n",
        "    classifier.fit(X,Y.values.ravel());\n",
        "    \n",
        "    scores.append({\n",
        "        'model': model_name,\n",
        "        'best_score': classifier.best_score_,\n",
        "        'best_params': classifier.best_params_\n",
        "    })\n",
        "df = pd.DataFrame(scores,columns=['model','best_score','best_params'])"
      ],
      "execution_count": 70,
      "outputs": []
    },
    {
      "cell_type": "code",
      "metadata": {
        "id": "tHZpd1cNEsRr",
        "outputId": "4d447a74-e59d-4060-c013-22f633837741",
        "colab": {
          "base_uri": "https://localhost:8080/",
          "height": 142
        }
      },
      "source": [
        "df"
      ],
      "execution_count": 73,
      "outputs": [
        {
          "output_type": "execute_result",
          "data": {
            "text/html": [
              "<div>\n",
              "<style scoped>\n",
              "    .dataframe tbody tr th:only-of-type {\n",
              "        vertical-align: middle;\n",
              "    }\n",
              "\n",
              "    .dataframe tbody tr th {\n",
              "        vertical-align: top;\n",
              "    }\n",
              "\n",
              "    .dataframe thead th {\n",
              "        text-align: right;\n",
              "    }\n",
              "</style>\n",
              "<table border=\"1\" class=\"dataframe\">\n",
              "  <thead>\n",
              "    <tr style=\"text-align: right;\">\n",
              "      <th></th>\n",
              "      <th>model</th>\n",
              "      <th>best_score</th>\n",
              "      <th>best_params</th>\n",
              "    </tr>\n",
              "  </thead>\n",
              "  <tbody>\n",
              "    <tr>\n",
              "      <th>0</th>\n",
              "      <td>svm</td>\n",
              "      <td>0.969628</td>\n",
              "      <td>{'C': 10, 'gamma': 0.55, 'kernel': 'rbf'}</td>\n",
              "    </tr>\n",
              "    <tr>\n",
              "      <th>1</th>\n",
              "      <td>random_forest</td>\n",
              "      <td>0.933884</td>\n",
              "      <td>{'max_depth': 6, 'max_features': 'sqrt', 'min_...</td>\n",
              "    </tr>\n",
              "    <tr>\n",
              "      <th>2</th>\n",
              "      <td>Tree</td>\n",
              "      <td>0.983678</td>\n",
              "      <td>{'criterion': 'entropy', 'max_depth': 11}</td>\n",
              "    </tr>\n",
              "  </tbody>\n",
              "</table>\n",
              "</div>"
            ],
            "text/plain": [
              "           model  best_score                                        best_params\n",
              "0            svm    0.969628          {'C': 10, 'gamma': 0.55, 'kernel': 'rbf'}\n",
              "1  random_forest    0.933884  {'max_depth': 6, 'max_features': 'sqrt', 'min_...\n",
              "2           Tree    0.983678          {'criterion': 'entropy', 'max_depth': 11}"
            ]
          },
          "metadata": {},
          "execution_count": 73
        }
      ]
    },
    {
      "cell_type": "markdown",
      "metadata": {
        "id": "--uMZy3l1ZkJ"
      },
      "source": [
        "Individual accuracy and parameters for each model"
      ]
    },
    {
      "cell_type": "code",
      "metadata": {
        "colab": {
          "base_uri": "https://localhost:8080/"
        },
        "id": "N32rrlqE0F9R",
        "outputId": "2c9da005-d071-4e03-f872-bbb8071e3d87"
      },
      "source": [
        "scores = []\n",
        "for model_name, mp in model_params.items():\n",
        "    classifier =  GridSearchCV(mp['model'], mp['params'], cv=10,scoring=\"accuracy\")\n",
        "    classifier.fit(X,Y.values.ravel());\n",
        "\n",
        "    # print(\"Grid result\",classifier.cv_results_.keys())\n",
        "    for i in ['mean_test_score','params']:\n",
        "        print(i,\" : \",classifier.cv_results_[i])\n",
        "    \n",
        "    scores.append({\n",
        "        'model': model_name,\n",
        "        'best_score': classifier.cv_results_['mean_test_score'],\n",
        "        'params': classifier.cv_results_['params']\n",
        "    })"
      ],
      "execution_count": 60,
      "outputs": [
        {
          "output_type": "stream",
          "name": "stdout",
          "text": [
            "mean_test_score  :  [0.96900826 0.86818182 0.96942149 0.86818182 0.9696281  0.86818182\n",
            " 0.96900826 0.86859504 0.96942149 0.86859504 0.9696281  0.86859504\n",
            " 0.96900826 0.86880165 0.96942149 0.86880165 0.9696281  0.86880165]\n",
            "params  :  [{'C': 10, 'gamma': 0.51, 'kernel': 'rbf'}, {'C': 10, 'gamma': 0.51, 'kernel': 'linear'}, {'C': 10, 'gamma': 0.52, 'kernel': 'rbf'}, {'C': 10, 'gamma': 0.52, 'kernel': 'linear'}, {'C': 10, 'gamma': 0.55, 'kernel': 'rbf'}, {'C': 10, 'gamma': 0.55, 'kernel': 'linear'}, {'C': 20, 'gamma': 0.51, 'kernel': 'rbf'}, {'C': 20, 'gamma': 0.51, 'kernel': 'linear'}, {'C': 20, 'gamma': 0.52, 'kernel': 'rbf'}, {'C': 20, 'gamma': 0.52, 'kernel': 'linear'}, {'C': 20, 'gamma': 0.55, 'kernel': 'rbf'}, {'C': 20, 'gamma': 0.55, 'kernel': 'linear'}, {'C': 23, 'gamma': 0.51, 'kernel': 'rbf'}, {'C': 23, 'gamma': 0.51, 'kernel': 'linear'}, {'C': 23, 'gamma': 0.52, 'kernel': 'rbf'}, {'C': 23, 'gamma': 0.52, 'kernel': 'linear'}, {'C': 23, 'gamma': 0.55, 'kernel': 'rbf'}, {'C': 23, 'gamma': 0.55, 'kernel': 'linear'}]\n",
            "mean_test_score  :  [0.4731405  0.67789256 0.75495868 0.81880165 0.47169421 0.70082645\n",
            " 0.81508264 0.80433884 0.45909091 0.76219008 0.76466942 0.82789256\n",
            " 0.50392562 0.725      0.7607438  0.8088843  0.49070248 0.64855372\n",
            " 0.80475207 0.77252066 0.45433884 0.72252066 0.76177686 0.75909091\n",
            " 0.67809917 0.8518595  0.86983471 0.88409091 0.67623967 0.84958678\n",
            " 0.86053719 0.88946281 0.66177686 0.8838843  0.87066116 0.88636364\n",
            " 0.67582645 0.83305785 0.86570248 0.88367769 0.6892562  0.86818182\n",
            " 0.87107438 0.88842975 0.63161157 0.875      0.85805785 0.87933884\n",
            " 0.77541322 0.90847107 0.91446281 0.93347107 0.80371901 0.91301653\n",
            " 0.93016529 0.92045455 0.79607438 0.90640496 0.92376033 0.92210744\n",
            " 0.84380165 0.91219008 0.92272727 0.91714876 0.8231405  0.9161157\n",
            " 0.91632231 0.92789256 0.8        0.92603306 0.92355372 0.91384298]\n",
            "params  :  [{'max_depth': 2, 'max_features': 'auto', 'min_samples_leaf': 1, 'n_estimators': 1}, {'max_depth': 2, 'max_features': 'auto', 'min_samples_leaf': 1, 'n_estimators': 5}, {'max_depth': 2, 'max_features': 'auto', 'min_samples_leaf': 1, 'n_estimators': 10}, {'max_depth': 2, 'max_features': 'auto', 'min_samples_leaf': 1, 'n_estimators': 15}, {'max_depth': 2, 'max_features': 'auto', 'min_samples_leaf': 2, 'n_estimators': 1}, {'max_depth': 2, 'max_features': 'auto', 'min_samples_leaf': 2, 'n_estimators': 5}, {'max_depth': 2, 'max_features': 'auto', 'min_samples_leaf': 2, 'n_estimators': 10}, {'max_depth': 2, 'max_features': 'auto', 'min_samples_leaf': 2, 'n_estimators': 15}, {'max_depth': 2, 'max_features': 'auto', 'min_samples_leaf': 3, 'n_estimators': 1}, {'max_depth': 2, 'max_features': 'auto', 'min_samples_leaf': 3, 'n_estimators': 5}, {'max_depth': 2, 'max_features': 'auto', 'min_samples_leaf': 3, 'n_estimators': 10}, {'max_depth': 2, 'max_features': 'auto', 'min_samples_leaf': 3, 'n_estimators': 15}, {'max_depth': 2, 'max_features': 'sqrt', 'min_samples_leaf': 1, 'n_estimators': 1}, {'max_depth': 2, 'max_features': 'sqrt', 'min_samples_leaf': 1, 'n_estimators': 5}, {'max_depth': 2, 'max_features': 'sqrt', 'min_samples_leaf': 1, 'n_estimators': 10}, {'max_depth': 2, 'max_features': 'sqrt', 'min_samples_leaf': 1, 'n_estimators': 15}, {'max_depth': 2, 'max_features': 'sqrt', 'min_samples_leaf': 2, 'n_estimators': 1}, {'max_depth': 2, 'max_features': 'sqrt', 'min_samples_leaf': 2, 'n_estimators': 5}, {'max_depth': 2, 'max_features': 'sqrt', 'min_samples_leaf': 2, 'n_estimators': 10}, {'max_depth': 2, 'max_features': 'sqrt', 'min_samples_leaf': 2, 'n_estimators': 15}, {'max_depth': 2, 'max_features': 'sqrt', 'min_samples_leaf': 3, 'n_estimators': 1}, {'max_depth': 2, 'max_features': 'sqrt', 'min_samples_leaf': 3, 'n_estimators': 5}, {'max_depth': 2, 'max_features': 'sqrt', 'min_samples_leaf': 3, 'n_estimators': 10}, {'max_depth': 2, 'max_features': 'sqrt', 'min_samples_leaf': 3, 'n_estimators': 15}, {'max_depth': 4, 'max_features': 'auto', 'min_samples_leaf': 1, 'n_estimators': 1}, {'max_depth': 4, 'max_features': 'auto', 'min_samples_leaf': 1, 'n_estimators': 5}, {'max_depth': 4, 'max_features': 'auto', 'min_samples_leaf': 1, 'n_estimators': 10}, {'max_depth': 4, 'max_features': 'auto', 'min_samples_leaf': 1, 'n_estimators': 15}, {'max_depth': 4, 'max_features': 'auto', 'min_samples_leaf': 2, 'n_estimators': 1}, {'max_depth': 4, 'max_features': 'auto', 'min_samples_leaf': 2, 'n_estimators': 5}, {'max_depth': 4, 'max_features': 'auto', 'min_samples_leaf': 2, 'n_estimators': 10}, {'max_depth': 4, 'max_features': 'auto', 'min_samples_leaf': 2, 'n_estimators': 15}, {'max_depth': 4, 'max_features': 'auto', 'min_samples_leaf': 3, 'n_estimators': 1}, {'max_depth': 4, 'max_features': 'auto', 'min_samples_leaf': 3, 'n_estimators': 5}, {'max_depth': 4, 'max_features': 'auto', 'min_samples_leaf': 3, 'n_estimators': 10}, {'max_depth': 4, 'max_features': 'auto', 'min_samples_leaf': 3, 'n_estimators': 15}, {'max_depth': 4, 'max_features': 'sqrt', 'min_samples_leaf': 1, 'n_estimators': 1}, {'max_depth': 4, 'max_features': 'sqrt', 'min_samples_leaf': 1, 'n_estimators': 5}, {'max_depth': 4, 'max_features': 'sqrt', 'min_samples_leaf': 1, 'n_estimators': 10}, {'max_depth': 4, 'max_features': 'sqrt', 'min_samples_leaf': 1, 'n_estimators': 15}, {'max_depth': 4, 'max_features': 'sqrt', 'min_samples_leaf': 2, 'n_estimators': 1}, {'max_depth': 4, 'max_features': 'sqrt', 'min_samples_leaf': 2, 'n_estimators': 5}, {'max_depth': 4, 'max_features': 'sqrt', 'min_samples_leaf': 2, 'n_estimators': 10}, {'max_depth': 4, 'max_features': 'sqrt', 'min_samples_leaf': 2, 'n_estimators': 15}, {'max_depth': 4, 'max_features': 'sqrt', 'min_samples_leaf': 3, 'n_estimators': 1}, {'max_depth': 4, 'max_features': 'sqrt', 'min_samples_leaf': 3, 'n_estimators': 5}, {'max_depth': 4, 'max_features': 'sqrt', 'min_samples_leaf': 3, 'n_estimators': 10}, {'max_depth': 4, 'max_features': 'sqrt', 'min_samples_leaf': 3, 'n_estimators': 15}, {'max_depth': 6, 'max_features': 'auto', 'min_samples_leaf': 1, 'n_estimators': 1}, {'max_depth': 6, 'max_features': 'auto', 'min_samples_leaf': 1, 'n_estimators': 5}, {'max_depth': 6, 'max_features': 'auto', 'min_samples_leaf': 1, 'n_estimators': 10}, {'max_depth': 6, 'max_features': 'auto', 'min_samples_leaf': 1, 'n_estimators': 15}, {'max_depth': 6, 'max_features': 'auto', 'min_samples_leaf': 2, 'n_estimators': 1}, {'max_depth': 6, 'max_features': 'auto', 'min_samples_leaf': 2, 'n_estimators': 5}, {'max_depth': 6, 'max_features': 'auto', 'min_samples_leaf': 2, 'n_estimators': 10}, {'max_depth': 6, 'max_features': 'auto', 'min_samples_leaf': 2, 'n_estimators': 15}, {'max_depth': 6, 'max_features': 'auto', 'min_samples_leaf': 3, 'n_estimators': 1}, {'max_depth': 6, 'max_features': 'auto', 'min_samples_leaf': 3, 'n_estimators': 5}, {'max_depth': 6, 'max_features': 'auto', 'min_samples_leaf': 3, 'n_estimators': 10}, {'max_depth': 6, 'max_features': 'auto', 'min_samples_leaf': 3, 'n_estimators': 15}, {'max_depth': 6, 'max_features': 'sqrt', 'min_samples_leaf': 1, 'n_estimators': 1}, {'max_depth': 6, 'max_features': 'sqrt', 'min_samples_leaf': 1, 'n_estimators': 5}, {'max_depth': 6, 'max_features': 'sqrt', 'min_samples_leaf': 1, 'n_estimators': 10}, {'max_depth': 6, 'max_features': 'sqrt', 'min_samples_leaf': 1, 'n_estimators': 15}, {'max_depth': 6, 'max_features': 'sqrt', 'min_samples_leaf': 2, 'n_estimators': 1}, {'max_depth': 6, 'max_features': 'sqrt', 'min_samples_leaf': 2, 'n_estimators': 5}, {'max_depth': 6, 'max_features': 'sqrt', 'min_samples_leaf': 2, 'n_estimators': 10}, {'max_depth': 6, 'max_features': 'sqrt', 'min_samples_leaf': 2, 'n_estimators': 15}, {'max_depth': 6, 'max_features': 'sqrt', 'min_samples_leaf': 3, 'n_estimators': 1}, {'max_depth': 6, 'max_features': 'sqrt', 'min_samples_leaf': 3, 'n_estimators': 5}, {'max_depth': 6, 'max_features': 'sqrt', 'min_samples_leaf': 3, 'n_estimators': 10}, {'max_depth': 6, 'max_features': 'sqrt', 'min_samples_leaf': 3, 'n_estimators': 15}]\n",
            "mean_test_score  :  [0.76115702 0.88119835 0.92665289 0.94442149 0.96280992 0.96528926\n",
            " 0.97252066 0.97623967 0.9785124  0.97830579 0.83698347 0.9161157\n",
            " 0.93119835 0.95929752 0.96983471 0.96838843 0.97623967 0.98367769\n",
            " 0.98305785 0.98305785]\n",
            "params  :  [{'criterion': 'gini', 'max_depth': 4}, {'criterion': 'gini', 'max_depth': 5}, {'criterion': 'gini', 'max_depth': 6}, {'criterion': 'gini', 'max_depth': 7}, {'criterion': 'gini', 'max_depth': 8}, {'criterion': 'gini', 'max_depth': 9}, {'criterion': 'gini', 'max_depth': 10}, {'criterion': 'gini', 'max_depth': 11}, {'criterion': 'gini', 'max_depth': 12}, {'criterion': 'gini', 'max_depth': 15}, {'criterion': 'entropy', 'max_depth': 4}, {'criterion': 'entropy', 'max_depth': 5}, {'criterion': 'entropy', 'max_depth': 6}, {'criterion': 'entropy', 'max_depth': 7}, {'criterion': 'entropy', 'max_depth': 8}, {'criterion': 'entropy', 'max_depth': 9}, {'criterion': 'entropy', 'max_depth': 10}, {'criterion': 'entropy', 'max_depth': 11}, {'criterion': 'entropy', 'max_depth': 12}, {'criterion': 'entropy', 'max_depth': 15}]\n"
          ]
        }
      ]
    },
    {
      "cell_type": "code",
      "metadata": {
        "id": "YrG7GEs7E4Z8"
      },
      "source": [
        "df = pd.DataFrame(scores,columns=['model','best_score','params'])"
      ],
      "execution_count": 61,
      "outputs": []
    },
    {
      "cell_type": "code",
      "metadata": {
        "id": "QzAy9MDDHkxD"
      },
      "source": [
        "result=[]\n",
        "for i in range(0,3):\n",
        "  for j in range(0,18):\n",
        "    result.append({\n",
        "        'model': df['model'][i],\n",
        "        'accuracy': df['best_score'][i][j],\n",
        "        'parameters': df['params'][i][j]\n",
        "    })\n",
        "   "
      ],
      "execution_count": 62,
      "outputs": []
    },
    {
      "cell_type": "code",
      "metadata": {
        "id": "zamY3xeP05vK"
      },
      "source": [
        "Result = pd.DataFrame(result,columns=['model','accuracy','parameters'])"
      ],
      "execution_count": 63,
      "outputs": []
    },
    {
      "cell_type": "code",
      "metadata": {
        "id": "6GZ8PPFULYkr",
        "outputId": "88a18a10-75aa-4597-b936-37321c17e387",
        "colab": {
          "base_uri": "https://localhost:8080/",
          "height": 1000
        }
      },
      "source": [
        "Result"
      ],
      "execution_count": 64,
      "outputs": [
        {
          "output_type": "execute_result",
          "data": {
            "text/html": [
              "<div>\n",
              "<style scoped>\n",
              "    .dataframe tbody tr th:only-of-type {\n",
              "        vertical-align: middle;\n",
              "    }\n",
              "\n",
              "    .dataframe tbody tr th {\n",
              "        vertical-align: top;\n",
              "    }\n",
              "\n",
              "    .dataframe thead th {\n",
              "        text-align: right;\n",
              "    }\n",
              "</style>\n",
              "<table border=\"1\" class=\"dataframe\">\n",
              "  <thead>\n",
              "    <tr style=\"text-align: right;\">\n",
              "      <th></th>\n",
              "      <th>model</th>\n",
              "      <th>accuracy</th>\n",
              "      <th>parameters</th>\n",
              "    </tr>\n",
              "  </thead>\n",
              "  <tbody>\n",
              "    <tr>\n",
              "      <th>0</th>\n",
              "      <td>svm</td>\n",
              "      <td>0.969008</td>\n",
              "      <td>{'C': 10, 'gamma': 0.51, 'kernel': 'rbf'}</td>\n",
              "    </tr>\n",
              "    <tr>\n",
              "      <th>1</th>\n",
              "      <td>svm</td>\n",
              "      <td>0.868182</td>\n",
              "      <td>{'C': 10, 'gamma': 0.51, 'kernel': 'linear'}</td>\n",
              "    </tr>\n",
              "    <tr>\n",
              "      <th>2</th>\n",
              "      <td>svm</td>\n",
              "      <td>0.969421</td>\n",
              "      <td>{'C': 10, 'gamma': 0.52, 'kernel': 'rbf'}</td>\n",
              "    </tr>\n",
              "    <tr>\n",
              "      <th>3</th>\n",
              "      <td>svm</td>\n",
              "      <td>0.868182</td>\n",
              "      <td>{'C': 10, 'gamma': 0.52, 'kernel': 'linear'}</td>\n",
              "    </tr>\n",
              "    <tr>\n",
              "      <th>4</th>\n",
              "      <td>svm</td>\n",
              "      <td>0.969628</td>\n",
              "      <td>{'C': 10, 'gamma': 0.55, 'kernel': 'rbf'}</td>\n",
              "    </tr>\n",
              "    <tr>\n",
              "      <th>5</th>\n",
              "      <td>svm</td>\n",
              "      <td>0.868182</td>\n",
              "      <td>{'C': 10, 'gamma': 0.55, 'kernel': 'linear'}</td>\n",
              "    </tr>\n",
              "    <tr>\n",
              "      <th>6</th>\n",
              "      <td>svm</td>\n",
              "      <td>0.969008</td>\n",
              "      <td>{'C': 20, 'gamma': 0.51, 'kernel': 'rbf'}</td>\n",
              "    </tr>\n",
              "    <tr>\n",
              "      <th>7</th>\n",
              "      <td>svm</td>\n",
              "      <td>0.868595</td>\n",
              "      <td>{'C': 20, 'gamma': 0.51, 'kernel': 'linear'}</td>\n",
              "    </tr>\n",
              "    <tr>\n",
              "      <th>8</th>\n",
              "      <td>svm</td>\n",
              "      <td>0.969421</td>\n",
              "      <td>{'C': 20, 'gamma': 0.52, 'kernel': 'rbf'}</td>\n",
              "    </tr>\n",
              "    <tr>\n",
              "      <th>9</th>\n",
              "      <td>svm</td>\n",
              "      <td>0.868595</td>\n",
              "      <td>{'C': 20, 'gamma': 0.52, 'kernel': 'linear'}</td>\n",
              "    </tr>\n",
              "    <tr>\n",
              "      <th>10</th>\n",
              "      <td>svm</td>\n",
              "      <td>0.969628</td>\n",
              "      <td>{'C': 20, 'gamma': 0.55, 'kernel': 'rbf'}</td>\n",
              "    </tr>\n",
              "    <tr>\n",
              "      <th>11</th>\n",
              "      <td>svm</td>\n",
              "      <td>0.868595</td>\n",
              "      <td>{'C': 20, 'gamma': 0.55, 'kernel': 'linear'}</td>\n",
              "    </tr>\n",
              "    <tr>\n",
              "      <th>12</th>\n",
              "      <td>svm</td>\n",
              "      <td>0.969008</td>\n",
              "      <td>{'C': 23, 'gamma': 0.51, 'kernel': 'rbf'}</td>\n",
              "    </tr>\n",
              "    <tr>\n",
              "      <th>13</th>\n",
              "      <td>svm</td>\n",
              "      <td>0.868802</td>\n",
              "      <td>{'C': 23, 'gamma': 0.51, 'kernel': 'linear'}</td>\n",
              "    </tr>\n",
              "    <tr>\n",
              "      <th>14</th>\n",
              "      <td>svm</td>\n",
              "      <td>0.969421</td>\n",
              "      <td>{'C': 23, 'gamma': 0.52, 'kernel': 'rbf'}</td>\n",
              "    </tr>\n",
              "    <tr>\n",
              "      <th>15</th>\n",
              "      <td>svm</td>\n",
              "      <td>0.868802</td>\n",
              "      <td>{'C': 23, 'gamma': 0.52, 'kernel': 'linear'}</td>\n",
              "    </tr>\n",
              "    <tr>\n",
              "      <th>16</th>\n",
              "      <td>svm</td>\n",
              "      <td>0.969628</td>\n",
              "      <td>{'C': 23, 'gamma': 0.55, 'kernel': 'rbf'}</td>\n",
              "    </tr>\n",
              "    <tr>\n",
              "      <th>17</th>\n",
              "      <td>svm</td>\n",
              "      <td>0.868802</td>\n",
              "      <td>{'C': 23, 'gamma': 0.55, 'kernel': 'linear'}</td>\n",
              "    </tr>\n",
              "    <tr>\n",
              "      <th>18</th>\n",
              "      <td>random_forest</td>\n",
              "      <td>0.473140</td>\n",
              "      <td>{'max_depth': 2, 'max_features': 'auto', 'min_...</td>\n",
              "    </tr>\n",
              "    <tr>\n",
              "      <th>19</th>\n",
              "      <td>random_forest</td>\n",
              "      <td>0.677893</td>\n",
              "      <td>{'max_depth': 2, 'max_features': 'auto', 'min_...</td>\n",
              "    </tr>\n",
              "    <tr>\n",
              "      <th>20</th>\n",
              "      <td>random_forest</td>\n",
              "      <td>0.754959</td>\n",
              "      <td>{'max_depth': 2, 'max_features': 'auto', 'min_...</td>\n",
              "    </tr>\n",
              "    <tr>\n",
              "      <th>21</th>\n",
              "      <td>random_forest</td>\n",
              "      <td>0.818802</td>\n",
              "      <td>{'max_depth': 2, 'max_features': 'auto', 'min_...</td>\n",
              "    </tr>\n",
              "    <tr>\n",
              "      <th>22</th>\n",
              "      <td>random_forest</td>\n",
              "      <td>0.471694</td>\n",
              "      <td>{'max_depth': 2, 'max_features': 'auto', 'min_...</td>\n",
              "    </tr>\n",
              "    <tr>\n",
              "      <th>23</th>\n",
              "      <td>random_forest</td>\n",
              "      <td>0.700826</td>\n",
              "      <td>{'max_depth': 2, 'max_features': 'auto', 'min_...</td>\n",
              "    </tr>\n",
              "    <tr>\n",
              "      <th>24</th>\n",
              "      <td>random_forest</td>\n",
              "      <td>0.815083</td>\n",
              "      <td>{'max_depth': 2, 'max_features': 'auto', 'min_...</td>\n",
              "    </tr>\n",
              "    <tr>\n",
              "      <th>25</th>\n",
              "      <td>random_forest</td>\n",
              "      <td>0.804339</td>\n",
              "      <td>{'max_depth': 2, 'max_features': 'auto', 'min_...</td>\n",
              "    </tr>\n",
              "    <tr>\n",
              "      <th>26</th>\n",
              "      <td>random_forest</td>\n",
              "      <td>0.459091</td>\n",
              "      <td>{'max_depth': 2, 'max_features': 'auto', 'min_...</td>\n",
              "    </tr>\n",
              "    <tr>\n",
              "      <th>27</th>\n",
              "      <td>random_forest</td>\n",
              "      <td>0.762190</td>\n",
              "      <td>{'max_depth': 2, 'max_features': 'auto', 'min_...</td>\n",
              "    </tr>\n",
              "    <tr>\n",
              "      <th>28</th>\n",
              "      <td>random_forest</td>\n",
              "      <td>0.764669</td>\n",
              "      <td>{'max_depth': 2, 'max_features': 'auto', 'min_...</td>\n",
              "    </tr>\n",
              "    <tr>\n",
              "      <th>29</th>\n",
              "      <td>random_forest</td>\n",
              "      <td>0.827893</td>\n",
              "      <td>{'max_depth': 2, 'max_features': 'auto', 'min_...</td>\n",
              "    </tr>\n",
              "    <tr>\n",
              "      <th>30</th>\n",
              "      <td>random_forest</td>\n",
              "      <td>0.503926</td>\n",
              "      <td>{'max_depth': 2, 'max_features': 'sqrt', 'min_...</td>\n",
              "    </tr>\n",
              "    <tr>\n",
              "      <th>31</th>\n",
              "      <td>random_forest</td>\n",
              "      <td>0.725000</td>\n",
              "      <td>{'max_depth': 2, 'max_features': 'sqrt', 'min_...</td>\n",
              "    </tr>\n",
              "    <tr>\n",
              "      <th>32</th>\n",
              "      <td>random_forest</td>\n",
              "      <td>0.760744</td>\n",
              "      <td>{'max_depth': 2, 'max_features': 'sqrt', 'min_...</td>\n",
              "    </tr>\n",
              "    <tr>\n",
              "      <th>33</th>\n",
              "      <td>random_forest</td>\n",
              "      <td>0.808884</td>\n",
              "      <td>{'max_depth': 2, 'max_features': 'sqrt', 'min_...</td>\n",
              "    </tr>\n",
              "    <tr>\n",
              "      <th>34</th>\n",
              "      <td>random_forest</td>\n",
              "      <td>0.490702</td>\n",
              "      <td>{'max_depth': 2, 'max_features': 'sqrt', 'min_...</td>\n",
              "    </tr>\n",
              "    <tr>\n",
              "      <th>35</th>\n",
              "      <td>random_forest</td>\n",
              "      <td>0.648554</td>\n",
              "      <td>{'max_depth': 2, 'max_features': 'sqrt', 'min_...</td>\n",
              "    </tr>\n",
              "    <tr>\n",
              "      <th>36</th>\n",
              "      <td>Tree</td>\n",
              "      <td>0.761157</td>\n",
              "      <td>{'criterion': 'gini', 'max_depth': 4}</td>\n",
              "    </tr>\n",
              "    <tr>\n",
              "      <th>37</th>\n",
              "      <td>Tree</td>\n",
              "      <td>0.881198</td>\n",
              "      <td>{'criterion': 'gini', 'max_depth': 5}</td>\n",
              "    </tr>\n",
              "    <tr>\n",
              "      <th>38</th>\n",
              "      <td>Tree</td>\n",
              "      <td>0.926653</td>\n",
              "      <td>{'criterion': 'gini', 'max_depth': 6}</td>\n",
              "    </tr>\n",
              "    <tr>\n",
              "      <th>39</th>\n",
              "      <td>Tree</td>\n",
              "      <td>0.944421</td>\n",
              "      <td>{'criterion': 'gini', 'max_depth': 7}</td>\n",
              "    </tr>\n",
              "    <tr>\n",
              "      <th>40</th>\n",
              "      <td>Tree</td>\n",
              "      <td>0.962810</td>\n",
              "      <td>{'criterion': 'gini', 'max_depth': 8}</td>\n",
              "    </tr>\n",
              "    <tr>\n",
              "      <th>41</th>\n",
              "      <td>Tree</td>\n",
              "      <td>0.965289</td>\n",
              "      <td>{'criterion': 'gini', 'max_depth': 9}</td>\n",
              "    </tr>\n",
              "    <tr>\n",
              "      <th>42</th>\n",
              "      <td>Tree</td>\n",
              "      <td>0.972521</td>\n",
              "      <td>{'criterion': 'gini', 'max_depth': 10}</td>\n",
              "    </tr>\n",
              "    <tr>\n",
              "      <th>43</th>\n",
              "      <td>Tree</td>\n",
              "      <td>0.976240</td>\n",
              "      <td>{'criterion': 'gini', 'max_depth': 11}</td>\n",
              "    </tr>\n",
              "    <tr>\n",
              "      <th>44</th>\n",
              "      <td>Tree</td>\n",
              "      <td>0.978512</td>\n",
              "      <td>{'criterion': 'gini', 'max_depth': 12}</td>\n",
              "    </tr>\n",
              "    <tr>\n",
              "      <th>45</th>\n",
              "      <td>Tree</td>\n",
              "      <td>0.978306</td>\n",
              "      <td>{'criterion': 'gini', 'max_depth': 15}</td>\n",
              "    </tr>\n",
              "    <tr>\n",
              "      <th>46</th>\n",
              "      <td>Tree</td>\n",
              "      <td>0.836983</td>\n",
              "      <td>{'criterion': 'entropy', 'max_depth': 4}</td>\n",
              "    </tr>\n",
              "    <tr>\n",
              "      <th>47</th>\n",
              "      <td>Tree</td>\n",
              "      <td>0.916116</td>\n",
              "      <td>{'criterion': 'entropy', 'max_depth': 5}</td>\n",
              "    </tr>\n",
              "    <tr>\n",
              "      <th>48</th>\n",
              "      <td>Tree</td>\n",
              "      <td>0.931198</td>\n",
              "      <td>{'criterion': 'entropy', 'max_depth': 6}</td>\n",
              "    </tr>\n",
              "    <tr>\n",
              "      <th>49</th>\n",
              "      <td>Tree</td>\n",
              "      <td>0.959298</td>\n",
              "      <td>{'criterion': 'entropy', 'max_depth': 7}</td>\n",
              "    </tr>\n",
              "    <tr>\n",
              "      <th>50</th>\n",
              "      <td>Tree</td>\n",
              "      <td>0.969835</td>\n",
              "      <td>{'criterion': 'entropy', 'max_depth': 8}</td>\n",
              "    </tr>\n",
              "    <tr>\n",
              "      <th>51</th>\n",
              "      <td>Tree</td>\n",
              "      <td>0.968388</td>\n",
              "      <td>{'criterion': 'entropy', 'max_depth': 9}</td>\n",
              "    </tr>\n",
              "    <tr>\n",
              "      <th>52</th>\n",
              "      <td>Tree</td>\n",
              "      <td>0.976240</td>\n",
              "      <td>{'criterion': 'entropy', 'max_depth': 10}</td>\n",
              "    </tr>\n",
              "    <tr>\n",
              "      <th>53</th>\n",
              "      <td>Tree</td>\n",
              "      <td>0.983678</td>\n",
              "      <td>{'criterion': 'entropy', 'max_depth': 11}</td>\n",
              "    </tr>\n",
              "  </tbody>\n",
              "</table>\n",
              "</div>"
            ],
            "text/plain": [
              "            model  accuracy                                         parameters\n",
              "0             svm  0.969008          {'C': 10, 'gamma': 0.51, 'kernel': 'rbf'}\n",
              "1             svm  0.868182       {'C': 10, 'gamma': 0.51, 'kernel': 'linear'}\n",
              "2             svm  0.969421          {'C': 10, 'gamma': 0.52, 'kernel': 'rbf'}\n",
              "3             svm  0.868182       {'C': 10, 'gamma': 0.52, 'kernel': 'linear'}\n",
              "4             svm  0.969628          {'C': 10, 'gamma': 0.55, 'kernel': 'rbf'}\n",
              "5             svm  0.868182       {'C': 10, 'gamma': 0.55, 'kernel': 'linear'}\n",
              "6             svm  0.969008          {'C': 20, 'gamma': 0.51, 'kernel': 'rbf'}\n",
              "7             svm  0.868595       {'C': 20, 'gamma': 0.51, 'kernel': 'linear'}\n",
              "8             svm  0.969421          {'C': 20, 'gamma': 0.52, 'kernel': 'rbf'}\n",
              "9             svm  0.868595       {'C': 20, 'gamma': 0.52, 'kernel': 'linear'}\n",
              "10            svm  0.969628          {'C': 20, 'gamma': 0.55, 'kernel': 'rbf'}\n",
              "11            svm  0.868595       {'C': 20, 'gamma': 0.55, 'kernel': 'linear'}\n",
              "12            svm  0.969008          {'C': 23, 'gamma': 0.51, 'kernel': 'rbf'}\n",
              "13            svm  0.868802       {'C': 23, 'gamma': 0.51, 'kernel': 'linear'}\n",
              "14            svm  0.969421          {'C': 23, 'gamma': 0.52, 'kernel': 'rbf'}\n",
              "15            svm  0.868802       {'C': 23, 'gamma': 0.52, 'kernel': 'linear'}\n",
              "16            svm  0.969628          {'C': 23, 'gamma': 0.55, 'kernel': 'rbf'}\n",
              "17            svm  0.868802       {'C': 23, 'gamma': 0.55, 'kernel': 'linear'}\n",
              "18  random_forest  0.473140  {'max_depth': 2, 'max_features': 'auto', 'min_...\n",
              "19  random_forest  0.677893  {'max_depth': 2, 'max_features': 'auto', 'min_...\n",
              "20  random_forest  0.754959  {'max_depth': 2, 'max_features': 'auto', 'min_...\n",
              "21  random_forest  0.818802  {'max_depth': 2, 'max_features': 'auto', 'min_...\n",
              "22  random_forest  0.471694  {'max_depth': 2, 'max_features': 'auto', 'min_...\n",
              "23  random_forest  0.700826  {'max_depth': 2, 'max_features': 'auto', 'min_...\n",
              "24  random_forest  0.815083  {'max_depth': 2, 'max_features': 'auto', 'min_...\n",
              "25  random_forest  0.804339  {'max_depth': 2, 'max_features': 'auto', 'min_...\n",
              "26  random_forest  0.459091  {'max_depth': 2, 'max_features': 'auto', 'min_...\n",
              "27  random_forest  0.762190  {'max_depth': 2, 'max_features': 'auto', 'min_...\n",
              "28  random_forest  0.764669  {'max_depth': 2, 'max_features': 'auto', 'min_...\n",
              "29  random_forest  0.827893  {'max_depth': 2, 'max_features': 'auto', 'min_...\n",
              "30  random_forest  0.503926  {'max_depth': 2, 'max_features': 'sqrt', 'min_...\n",
              "31  random_forest  0.725000  {'max_depth': 2, 'max_features': 'sqrt', 'min_...\n",
              "32  random_forest  0.760744  {'max_depth': 2, 'max_features': 'sqrt', 'min_...\n",
              "33  random_forest  0.808884  {'max_depth': 2, 'max_features': 'sqrt', 'min_...\n",
              "34  random_forest  0.490702  {'max_depth': 2, 'max_features': 'sqrt', 'min_...\n",
              "35  random_forest  0.648554  {'max_depth': 2, 'max_features': 'sqrt', 'min_...\n",
              "36           Tree  0.761157              {'criterion': 'gini', 'max_depth': 4}\n",
              "37           Tree  0.881198              {'criterion': 'gini', 'max_depth': 5}\n",
              "38           Tree  0.926653              {'criterion': 'gini', 'max_depth': 6}\n",
              "39           Tree  0.944421              {'criterion': 'gini', 'max_depth': 7}\n",
              "40           Tree  0.962810              {'criterion': 'gini', 'max_depth': 8}\n",
              "41           Tree  0.965289              {'criterion': 'gini', 'max_depth': 9}\n",
              "42           Tree  0.972521             {'criterion': 'gini', 'max_depth': 10}\n",
              "43           Tree  0.976240             {'criterion': 'gini', 'max_depth': 11}\n",
              "44           Tree  0.978512             {'criterion': 'gini', 'max_depth': 12}\n",
              "45           Tree  0.978306             {'criterion': 'gini', 'max_depth': 15}\n",
              "46           Tree  0.836983           {'criterion': 'entropy', 'max_depth': 4}\n",
              "47           Tree  0.916116           {'criterion': 'entropy', 'max_depth': 5}\n",
              "48           Tree  0.931198           {'criterion': 'entropy', 'max_depth': 6}\n",
              "49           Tree  0.959298           {'criterion': 'entropy', 'max_depth': 7}\n",
              "50           Tree  0.969835           {'criterion': 'entropy', 'max_depth': 8}\n",
              "51           Tree  0.968388           {'criterion': 'entropy', 'max_depth': 9}\n",
              "52           Tree  0.976240          {'criterion': 'entropy', 'max_depth': 10}\n",
              "53           Tree  0.983678          {'criterion': 'entropy', 'max_depth': 11}"
            ]
          },
          "metadata": {},
          "execution_count": 64
        }
      ]
    },
    {
      "cell_type": "code",
      "metadata": {
        "id": "jCCLufqO12NJ"
      },
      "source": [
        "S_V_M=SVC(C=10,gamma=0.55,kernel='rbf')\n",
        "R_F=RandomForestClassifier(n_estimators= 10,max_depth=6,max_features='sqrt',min_samples_leaf=1)\n",
        "TR=tree.DecisionTreeClassifier(criterion='entropy',max_depth= 11)"
      ],
      "execution_count": 74,
      "outputs": []
    },
    {
      "cell_type": "markdown",
      "metadata": {
        "id": "Djs2KXIm7KBS"
      },
      "source": [
        "Learning Curve with best parameters"
      ]
    },
    {
      "cell_type": "code",
      "metadata": {
        "id": "3wUMBc0B4tWy",
        "outputId": "edc6dfa6-9e71-4d8e-9911-378de3885b4a",
        "colab": {
          "base_uri": "https://localhost:8080/",
          "height": 413
        }
      },
      "source": [
        "from sklearn.model_selection import learning_curve   \n",
        "import numpy as np \n",
        "from matplotlib import pyplot as plt\n",
        "train_sizes,train_scores,test_scores=learning_curve(S_V_M,X,Y,cv=10,scoring='accuracy',n_jobs=-1,train_sizes=np.linspace(0.1,1.0,50),verbose=1)\n",
        "test_mean=np.mean(test_scores,axis=1)\n",
        "#test_std=np.std(test_scores,axis=1)\n",
        "plt.plot(train_sizes,test_mean)\n",
        "plt.title('Learning Accuracy')\n",
        "plt.xlabel('Training Size')\n",
        "plt.ylabel('Accuracy score')\n",
        "\n",
        "plt.plot(train_sizes,test_mean,label='SVM Accuracy')\n",
        "plt.legend(loc='best')"
      ],
      "execution_count": 91,
      "outputs": [
        {
          "output_type": "stream",
          "name": "stdout",
          "text": [
            "[learning_curve] Training set sizes: [ 435  515  595  675  755  835  915  995 1075 1155 1235 1315 1395 1475\n",
            " 1555 1635 1715 1795 1875 1955 2035 2115 2195 2275 2355 2435 2515 2595\n",
            " 2675 2755 2835 2915 2995 3075 3155 3235 3315 3395 3475 3555 3635 3715\n",
            " 3795 3875 3955 4035 4115 4195 4275 4356]\n"
          ]
        },
        {
          "output_type": "stream",
          "name": "stderr",
          "text": [
            "[Parallel(n_jobs=-1)]: Using backend LokyBackend with 2 concurrent workers.\n",
            "[Parallel(n_jobs=-1)]: Done 500 out of 500 | elapsed:  1.4min finished\n"
          ]
        },
        {
          "output_type": "execute_result",
          "data": {
            "text/plain": [
              "<matplotlib.legend.Legend at 0x7f5b00947c50>"
            ]
          },
          "metadata": {},
          "execution_count": 91
        },
        {
          "output_type": "display_data",
          "data": {
            "image/png": "[encoded data removed]",
            "text/plain": [
              "<Figure size 432x288 with 1 Axes>"
            ]
          },
          "metadata": {
            "needs_background": "light"
          }
        }
      ]
    },
    {
      "cell_type": "code",
      "metadata": {
        "id": "xth1aGoi5ooz",
        "outputId": "b364c2d1-4464-44aa-a796-576b84f7a029",
        "colab": {
          "base_uri": "https://localhost:8080/",
          "height": 413
        }
      },
      "source": [
        "train_sizes,train_scores,test_scores=learning_curve(R_F,X,Y,cv=10,scoring='accuracy',n_jobs=-1,train_sizes=np.linspace(0.1,1.0,50),verbose=1)\n",
        "test_mean=np.mean(test_scores,axis=1)\n",
        "#test_std=np.std(test_scores,axis=1)\n",
        "plt.plot(train_sizes,test_mean)\n",
        "plt.title('Learning Accuracy')\n",
        "plt.xlabel('Training Size')\n",
        "plt.ylabel('Accuracy score')\n",
        "\n",
        "plt.plot(train_sizes,test_mean,label='Random Forest Accuracy')\n",
        "plt.legend(loc='best')"
      ],
      "execution_count": 92,
      "outputs": [
        {
          "output_type": "stream",
          "name": "stdout",
          "text": [
            "[learning_curve] Training set sizes: [ 435  515  595  675  755  835  915  995 1075 1155 1235 1315 1395 1475\n",
            " 1555 1635 1715 1795 1875 1955 2035 2115 2195 2275 2355 2435 2515 2595\n",
            " 2675 2755 2835 2915 2995 3075 3155 3235 3315 3395 3475 3555 3635 3715\n",
            " 3795 3875 3955 4035 4115 4195 4275 4356]\n"
          ]
        },
        {
          "output_type": "stream",
          "name": "stderr",
          "text": [
            "[Parallel(n_jobs=-1)]: Using backend LokyBackend with 2 concurrent workers.\n",
            "[Parallel(n_jobs=-1)]: Done 500 out of 500 | elapsed:   13.4s finished\n"
          ]
        },
        {
          "output_type": "execute_result",
          "data": {
            "text/plain": [
              "<matplotlib.legend.Legend at 0x7f5b001b5b10>"
            ]
          },
          "metadata": {},
          "execution_count": 92
        },
        {
          "output_type": "display_data",
          "data": {
            "image/png": "[encoded data removed]",
            "text/plain": [
              "<Figure size 432x288 with 1 Axes>"
            ]
          },
          "metadata": {
            "needs_background": "light"
          }
        }
      ]
    },
    {
      "cell_type": "code",
      "metadata": {
        "id": "pH15JgLp55Mq",
        "outputId": "d696d16b-afc2-4a56-c836-6d325c187e60",
        "colab": {
          "base_uri": "https://localhost:8080/",
          "height": 413
        }
      },
      "source": [
        "train_sizes,train_scores,test_scores=learning_curve(TR,X,Y,cv=10,scoring='accuracy',n_jobs=-1,train_sizes=np.linspace(0.1,1.0,50),verbose=1)\n",
        "test_mean=np.mean(test_scores,axis=1)\n",
        "#test_std=np.std(test_scores,axis=1)\n",
        "plt.plot(train_sizes,test_mean)\n",
        "plt.title('Learning Accuracy')\n",
        "plt.xlabel('Training Size')\n",
        "plt.ylabel('Accuracy score')\n",
        "\n",
        "plt.plot(train_sizes,test_mean,label='Decision Tree Accuracy')\n",
        "plt.legend(loc='best')"
      ],
      "execution_count": 93,
      "outputs": [
        {
          "output_type": "stream",
          "name": "stdout",
          "text": [
            "[learning_curve] Training set sizes: [ 435  515  595  675  755  835  915  995 1075 1155 1235 1315 1395 1475\n",
            " 1555 1635 1715 1795 1875 1955 2035 2115 2195 2275 2355 2435 2515 2595\n",
            " 2675 2755 2835 2915 2995 3075 3155 3235 3315 3395 3475 3555 3635 3715\n",
            " 3795 3875 3955 4035 4115 4195 4275 4356]\n"
          ]
        },
        {
          "output_type": "stream",
          "name": "stderr",
          "text": [
            "[Parallel(n_jobs=-1)]: Using backend LokyBackend with 2 concurrent workers.\n",
            "[Parallel(n_jobs=-1)]: Done 500 out of 500 | elapsed:    4.0s finished\n"
          ]
        },
        {
          "output_type": "execute_result",
          "data": {
            "text/plain": [
              "<matplotlib.legend.Legend at 0x7f5b007ea650>"
            ]
          },
          "metadata": {},
          "execution_count": 93
        },
        {
          "output_type": "display_data",
          "data": {
            "image/png": "[encoded data removed]",
            "text/plain": [
              "<Figure size 432x288 with 1 Axes>"
            ]
          },
          "metadata": {
            "needs_background": "light"
          }
        }
      ]
    },
    {
      "cell_type": "markdown",
      "metadata": {
        "id": "a5eHhDou93Iy"
      },
      "source": [
        "Confussion Matrix "
      ]
    },
    {
      "cell_type": "code",
      "metadata": {
        "id": "J_FlqMY797QC"
      },
      "source": [
        "from sklearn.model_selection import cross_val_predict\n",
        "from sklearn.metrics import confusion_matrix\n",
        "import seaborn as sn\n",
        "SVM_y_pred = cross_val_predict(S_V_M, X, Y.values.ravel(), cv=10)\n",
        "RF_y_pred = cross_val_predict(R_F,  X, Y.values.ravel(), cv=10)\n",
        "TR_y_pred = cross_val_predict(TR,  X, Y.values.ravel(), cv=10)\n",
        "SVM_conf_mat = confusion_matrix(Y.values.ravel(), SVM_y_pred)\n",
        "RF_conf_mat = confusion_matrix(Y.values.ravel(), RF_y_pred)\n",
        "TR_conf_mat = confusion_matrix(Y.values.ravel(), TR_y_pred)"
      ],
      "execution_count": 96,
      "outputs": []
    },
    {
      "cell_type": "code",
      "metadata": {
        "id": "Q8BmoGBJ-g6K",
        "outputId": "d9c831fa-cdf3-44c5-c8d4-a415e8e10ea2",
        "colab": {
          "base_uri": "https://localhost:8080/",
          "height": 445
        }
      },
      "source": [
        "plt.figure(figsize=(10,7))\n",
        "sn.heatmap(SVM_conf_mat, annot=True,fmt='d')\n",
        "plt.xlabel('Predicted')\n",
        "plt.ylabel('Actual')"
      ],
      "execution_count": 97,
      "outputs": [
        {
          "output_type": "display_data",
          "data": {
            "image/png": "[encoded data removed]",
            "text/plain": [
              "<Figure size 720x504 with 2 Axes>"
            ]
          },
          "metadata": {
            "needs_background": "light"
          }
        }
      ]
    },
    {
      "cell_type": "code",
      "metadata": {
        "id": "6820PS1Y-krh",
        "outputId": "3408016b-add7-4505-d15c-03bd39181f3e",
        "colab": {
          "base_uri": "https://localhost:8080/",
          "height": 461
        }
      },
      "source": [
        "plt.figure(figsize=(10,7))\n",
        "sn.heatmap(RF_conf_mat, annot=True,fmt='d')\n",
        "plt.xlabel('Predicted')\n",
        "plt.ylabel('Actual')"
      ],
      "execution_count": 98,
      "outputs": [
        {
          "output_type": "execute_result",
          "data": {
            "text/plain": [
              "Text(69.0, 0.5, 'Actual')"
            ]
          },
          "metadata": {},
          "execution_count": 98
        },
        {
          "output_type": "display_data",
          "data": {
            "image/png": "[encoded data removed]",
            "text/plain": [
              "<Figure size 720x504 with 2 Axes>"
            ]
          },
          "metadata": {
            "needs_background": "light"
          }
        }
      ]
    },
    {
      "cell_type": "code",
      "metadata": {
        "id": "mkNYgECr-nMe",
        "outputId": "080529da-fdff-4b08-87b5-6ac0626cfdb1",
        "colab": {
          "base_uri": "https://localhost:8080/",
          "height": 462
        }
      },
      "source": [
        "plt.figure(figsize=(10,7))\n",
        "sn.heatmap(TR_conf_mat, annot=True,fmt='d')\n",
        "plt.xlabel('Predicted')\n",
        "plt.ylabel('Actual')"
      ],
      "execution_count": 99,
      "outputs": [
        {
          "output_type": "execute_result",
          "data": {
            "text/plain": [
              "Text(69.0, 0.5, 'Actual')"
            ]
          },
          "metadata": {},
          "execution_count": 99
        },
        {
          "output_type": "display_data",
          "data": {
            "image/png": "[encoded data removed]",
            "text/plain": [
              "<Figure size 720x504 with 2 Axes>"
            ]
          },
          "metadata": {
            "needs_background": "light"
          }
        }
      ]
    }
  ]
}